{
 "cells": [
  {
   "cell_type": "code",
   "execution_count": 1,
   "metadata": {},
   "outputs": [],
   "source": [
    "import cv2\n",
    "import matplotlib.pyplot as plt\n",
    "%matplotlib inline\n",
    "import numpy as np"
   ]
  },
  {
   "cell_type": "code",
   "execution_count": 5,
   "metadata": {},
   "outputs": [],
   "source": [
    "image = cv2.imread('images/airplane.png')"
   ]
  },
  {
   "cell_type": "code",
   "execution_count": 3,
   "metadata": {},
   "outputs": [],
   "source": [
    "cv2.imshow('Image',image)\n",
    "cv2.waitKey(0)\n",
    "cv2.destroyAllWindows()"
   ]
  },
  {
   "cell_type": "code",
   "execution_count": 4,
   "metadata": {},
   "outputs": [],
   "source": [
    "def showImage(info,image):\n",
    "    cv2.imshow(info,image)\n",
    "    cv2.waitKey(0)\n",
    "    cv2.destroyWindow(info)\n"
   ]
  },
  {
   "cell_type": "code",
   "execution_count": 7,
   "metadata": {},
   "outputs": [],
   "source": [
    "showImage(\"Input Image\",image)"
   ]
  },
  {
   "cell_type": "code",
   "execution_count": 8,
   "metadata": {},
   "outputs": [],
   "source": [
    "showImage(\"Red Image\",image[:,:,1])"
   ]
  },
  {
   "cell_type": "code",
   "execution_count": 6,
   "metadata": {},
   "outputs": [
    {
     "data": {
      "text/plain": [
       "(512, 512)"
      ]
     },
     "execution_count": 6,
     "metadata": {},
     "output_type": "execute_result"
    }
   ],
   "source": [
    "mono=image[:,:,1]\n",
    "mono.shape\n",
    "# mono"
   ]
  },
  {
   "cell_type": "code",
   "execution_count": 6,
   "metadata": {},
   "outputs": [
    {
     "name": "stdout",
     "output_type": "stream",
     "text": [
      "Max value  255 Min value 0\n"
     ]
    }
   ],
   "source": [
    "print(\"Max value \",mono.max(),\"Min value\",mono.min())"
   ]
  },
  {
   "cell_type": "code",
   "execution_count": 7,
   "metadata": {},
   "outputs": [],
   "source": [
    "dict={}\n",
    "for i in range(mono.shape[0]): #for each row\n",
    "    for j in range(mono.shape[1]): #for each column of selected row [2,0], [2,1], ... [2,639]\n",
    "      dict[mono[i,j]]=dict.get(mono[i,j],0)+1  "
   ]
  },
  {
   "cell_type": "code",
   "execution_count": 8,
   "metadata": {},
   "outputs": [
    {
     "data": {
      "text/plain": [
       "457"
      ]
     },
     "execution_count": 8,
     "metadata": {},
     "output_type": "execute_result"
    }
   ],
   "source": [
    "dict.get(148,0)+1"
   ]
  },
  {
   "cell_type": "code",
   "execution_count": 9,
   "metadata": {},
   "outputs": [
    {
     "data": {
      "text/plain": [
       "703"
      ]
     },
     "execution_count": 9,
     "metadata": {},
     "output_type": "execute_result"
    }
   ],
   "source": [
    "#validating using below function which counts no of occurance of value 91 in 2D array mono\n",
    "np.count_nonzero(mono==91)"
   ]
  },
  {
   "cell_type": "code",
   "execution_count": 112,
   "metadata": {},
   "outputs": [],
   "source": [
    "# dict.values() #get values\n",
    "# dict.keys() #get keys\n",
    "#dict.items()"
   ]
  },
  {
   "cell_type": "code",
   "execution_count": 10,
   "metadata": {},
   "outputs": [],
   "source": [
    "import matplotlib.pyplot as plt"
   ]
  },
  {
   "cell_type": "code",
   "execution_count": 11,
   "metadata": {},
   "outputs": [
    {
     "data": {
      "text/plain": [
       "<BarContainer object of 235 artists>"
      ]
     },
     "execution_count": 11,
     "metadata": {},
     "output_type": "execute_result"
    },
    {
     "data": {
      "image/png": "[encoded data removed]",
      "text/plain": [
       "<Figure size 432x288 with 1 Axes>"
      ]
     },
     "metadata": {
      "needs_background": "light"
     },
     "output_type": "display_data"
    }
   ],
   "source": [
    "plt.bar(dict.keys(), dict.values(), color='g')"
   ]
  },
  {
   "cell_type": "code",
   "execution_count": 18,
   "metadata": {},
   "outputs": [],
   "source": [
    "import matplotlib.pyplot as plt\n",
    "\n",
    "def getHistogram(monoImg,normalize=False):\n",
    "    dict={}\n",
    "    arr=np.zeros(256)\n",
    "    for i in range(mono.shape[0]): #for each row\n",
    "        for j in range(mono.shape[1]): #for each column of selected row [2,0], [2,1], ... [2,639]\n",
    "            dict[mono[i,j]]=dict.get(mono[i,j],0)+1\n",
    "            arr[mono[i,j]]=arr[mono[i,j]]+1\n",
    "    if(normalize==True):\n",
    "        arr=arr/(mono.shape[0]*mono.shape[1])\n",
    "        plt.bar(np.arange(0,256), arr, color='g')\n",
    "    else:\n",
    "        plt.bar(dict.keys(), dict.values(), color='g')\n",
    "#     return dict"
   ]
  },
  {
   "cell_type": "code",
   "execution_count": 22,
   "metadata": {},
   "outputs": [
    {
     "data": {
      "image/png": "[encoded data removed]",
      "text/plain": [
       "<Figure size 432x288 with 1 Axes>"
      ]
     },
     "metadata": {
      "needs_background": "light"
     },
     "output_type": "display_data"
    }
   ],
   "source": [
    "getHistogram(mono,normalize=True) # with normalization (see the y axis range)"
   ]
  },
  {
   "cell_type": "code",
   "execution_count": 23,
   "metadata": {},
   "outputs": [
    {
     "data": {
      "image/png": "[encoded data removed]",
      "text/plain": [
       "<Figure size 432x288 with 1 Axes>"
      ]
     },
     "metadata": {
      "needs_background": "light"
     },
     "output_type": "display_data"
    }
   ],
   "source": [
    "getHistogram(mono) # without normalization (see the y axis range)"
   ]
  },
  {
   "cell_type": "markdown",
   "metadata": {},
   "source": [
    "#testing binarization on the basis of threshold"
   ]
  },
  {
   "cell_type": "code",
   "execution_count": 12,
   "metadata": {},
   "outputs": [
    {
     "data": {
      "text/plain": [
       "array([[142, 143, 139, ...,  94,  94,  95],\n",
       "       [144, 144, 140, ...,  96,  97,  97],\n",
       "       [142, 143, 143, ...,  99,  98,  98],\n",
       "       ...,\n",
       "       [  7,   8,  11, ...,   8,  13,   9],\n",
       "       [  9,   9,  11, ...,   8,  13,  13],\n",
       "       [ 12,  11,  11, ...,  12,  11,  11]], dtype=uint8)"
      ]
     },
     "execution_count": 12,
     "metadata": {},
     "output_type": "execute_result"
    }
   ],
   "source": [
    "mono"
   ]
  },
  {
   "cell_type": "code",
   "execution_count": 13,
   "metadata": {},
   "outputs": [],
   "source": [
    "def binarize(img,threshold):\n",
    "    imgcpy=img.copy()\n",
    "    for i in range(img.shape[0]):\n",
    "        for j in range(img.shape[1]):\n",
    "            if(img[i,j]<=threshold):\n",
    "                imgcpy[i,j]=255\n",
    "            else:\n",
    "                imgcpy[i,j]=0\n",
    "    return imgcpy"
   ]
  },
  {
   "cell_type": "code",
   "execution_count": 19,
   "metadata": {},
   "outputs": [],
   "source": [
    "#mco = mono.copy()"
   ]
  },
  {
   "cell_type": "code",
   "execution_count": 14,
   "metadata": {},
   "outputs": [],
   "source": [
    "showImage(\"binar\",binarize(mono,120))"
   ]
  },
  {
   "cell_type": "code",
   "execution_count": 18,
   "metadata": {},
   "outputs": [
    {
     "data": {
      "text/plain": [
       "(480, 640)"
      ]
     },
     "execution_count": 18,
     "metadata": {},
     "output_type": "execute_result"
    }
   ],
   "source": [
    "mono.shape\n"
   ]
  },
  {
   "cell_type": "code",
   "execution_count": 20,
   "metadata": {},
   "outputs": [],
   "source": [
    "def negative(image):\n",
    "    maxval=image.max()\n",
    "    return (maxval-image)\n",
    "\n",
    "showImage('negative', negative(image))"
   ]
  },
  {
   "cell_type": "code",
   "execution_count": 147,
   "metadata": {},
   "outputs": [],
   "source": [
    "def getFilter(name):\n",
    "    return {\n",
    "        'MEAN': np.array([[1/9,1/9,1/9],[1/9,1/9,1/9],[1/9,1/9,1/9]]),\n",
    "        'WEIGHTEDMEAN': np.array([[1/16,2/16,1/16],[2/16,4/16,2/16],[1/16,2/16,1/16]]),\n",
    "        'HIGHPASS':np.array([[-1,-1,-1],[-1,8,-1],[-1,-1,-1]])\n",
    "    }.get(name,np.array([[1/9,1/9,1/9],[1/9,1/9,1/9],[1/9,1/9,1/9]]))"
   ]
  },
  {
   "cell_type": "code",
   "execution_count": 64,
   "metadata": {},
   "outputs": [],
   "source": [
    "def correlation(input,filter):\n",
    "    sum=0\n",
    "    for i in range(filter.shape[0]):\n",
    "        for j in range(filter.shape[0]):\n",
    "            sum +=input[i,j]*filter[i,j]\n",
    "    middle = int((filter.shape[0]+1)/2)\n",
    "    output = np.copy(input)\n",
    "    output[middle-1,middle-1]=int(round(sum))\n",
    "    return output"
   ]
  },
  {
   "cell_type": "code",
   "execution_count": 150,
   "metadata": {},
   "outputs": [],
   "source": [
    "#convolution\n",
    "from scipy import ndimage\n",
    "def convolution(input,filter):\n",
    "    return ndimage.convolve(input,filter)\n"
   ]
  },
  {
   "cell_type": "code",
   "execution_count": 131,
   "metadata": {},
   "outputs": [],
   "source": [
    "def maxcorrelation(mat):\n",
    "    matrix=mat.copy()\n",
    "    middle = int((matrix.shape[0]+1)/2)\n",
    "    matrix[middle-1,middle-1]=matrix.max()\n",
    "    return matrix\n",
    "def mincorrelation(mat):\n",
    "    matrix=mat.copy()\n",
    "    middle = int((matrix.shape[0]+1)/2)\n",
    "    matrix[middle-1,middle-1]=matrix.min()\n",
    "    return matrix\n",
    "    \n",
    "def mediancorrelation(mat):\n",
    "    matrix=mat.copy()\n",
    "    middle = int((matrix.shape[0]+1)/2)\n",
    "    matrix[middle-1,middle-1]=np.median(matrix)\n",
    "    return matrix\n",
    "    "
   ]
  },
  {
   "cell_type": "code",
   "execution_count": 163,
   "metadata": {},
   "outputs": [],
   "source": [
    "#spatial filter SMOOTHING\n",
    "\n",
    "filtersize=3 # 3x3 filter so filter = [[1/9,1/9,1/9],[1/9,1/9,1/9],[1/9,1/9,1/9]]\n",
    "\n",
    "def smoothing(img,fltertype=\"MEAN\",padding=1): #padding vaneko 0 padding default ma 1 ho\n",
    "    #showImage('orig',img)\n",
    "    if(fltertype=='LOWPASS'):\n",
    "        flter = getFilter('HIGHPASS')\n",
    "    else:\n",
    "        flter=getFilter(fltertype)\n",
    "    imgcpy=img.copy()\n",
    "    movement_vertical = imgcpy.shape[0]-flter.shape[0]\n",
    "    movement_horizontal = imgcpy.shape[1]-flter.shape[1]\n",
    "    #print(\"row ma :\",movement_vertical,\"column ma\",movement_horizontal)\n",
    "    for i in range(movement_vertical):\n",
    "        for j in range (movement_horizontal):\n",
    "            mat1 = img[i:i+flter.shape[0], j:j+flter.shape[0]]\n",
    "            #matbkup=mat1.copy()\n",
    "            if(fltertype=='MAX'):\n",
    "                imgcpy[i:i+flter.shape[0], j:j+flter.shape[0]]=maxcorrelation(mat1)\n",
    "                \n",
    "            elif(fltertype=='MIN'):\n",
    "                imgcpy[i:i+flter.shape[0], j:j+flter.shape[0]]=mincorrelation(mat1)\n",
    "                \n",
    "            elif(fltertype=='MEDIAN'):\n",
    "                imgcpy[i:i+flter.shape[0], j:j+flter.shape[0]]=mediancorrelation(mat1) \n",
    "            else:\n",
    "                imgcpy[i:i+flter.shape[0], j:j+flter.shape[0]]=correlation(mat1,flter)\n",
    "            #print(matbkup,\"op\",imgcpy[i:i+flter.shape[0], j:j+flter.shape[0]],\"\\n\")\n",
    "    if(fltertype=='LOWPASS'):\n",
    "        return (img-imgcpy)\n",
    "    return imgcpy"
   ]
  },
  {
   "cell_type": "code",
   "execution_count": 185,
   "metadata": {},
   "outputs": [],
   "source": [
    "def smoothingConvolution(img,fltertype='MEAN'):\n",
    "    if(fltertype=='LOWPASS'):\n",
    "        flter=getFilter('HIGHPASS')\n",
    "        hp=convolution(img,flter)\n",
    "        return (img-hp)\n",
    "    elif(fltertype=='HIGHBOOST'):\n",
    "        flter=getFilter('HIGHPASS')\n",
    "        hp=convolution(img,flter)\n",
    "        return (img+hp)\n",
    "    else:\n",
    "        flter=getFilter(fltertype)\n",
    "        return convolution(img,flter)\n",
    "    "
   ]
  },
  {
   "cell_type": "code",
   "execution_count": 186,
   "metadata": {},
   "outputs": [],
   "source": [
    "showImage('highpass',smoothingConvolution(mono,fltertype='HIGHBOOST'))"
   ]
  },
  {
   "cell_type": "code",
   "execution_count": 165,
   "metadata": {},
   "outputs": [],
   "source": [
    "# window= np.array([[1/9,1/9,1/9],[1/9,1/9,1/9],[1/9,1/9,1/9]])\n",
    "# filters = [\"MAX\",\"MIN\",]\n",
    "# processedimg = smoothing(mono,fltertype=\"MEDIAN\")\n",
    "# print(\"original\",mono[3:6,3:6],\"processed\",processedimg[3:6,3:6])\n",
    "# processedimg=smoothing(mono,fltertype=\"MEAN\")\n",
    "# print(\"original\",mono[3:6,3:6],\"processed\",processedimg[3:6,3:6])\n",
    "# processedimg = smoothing(mono,fltertype=\"MIN\")\n",
    "# print(\"original\",mono[3:6,3:6],\"processed\",processedimg[3:6,3:6])\n",
    "# processedimg = smoothing(mono,fltertype=\"MAX\")\n",
    "# print(\"original\",mono[:3,:3],\"processed\",processedimg[:3,:3])\n",
    "\n",
    "# showImage('LOWPASS',smoothing(mono,fltertype='LOWPASS'))\n",
    "showImage('highpass',smoothing(mono,fltertype='LOWPASS'))"
   ]
  },
  {
   "cell_type": "code",
   "execution_count": 137,
   "metadata": {},
   "outputs": [],
   "source": [
    "filters = [\"MEAN\",\"MIN\",\"MAX\",\"MEDIAN\"]\n",
    "\n",
    "for f in filters:\n",
    "#     smoothing(mono,fltertype=f)\n",
    "    showImage(f,smoothing(mono,fltertype=f))"
   ]
  },
  {
   "cell_type": "code",
   "execution_count": 1,
   "metadata": {},
   "outputs": [],
   "source": [
    "# np.append()"
   ]
  },
  {
   "cell_type": "code",
   "execution_count": 32,
   "metadata": {},
   "outputs": [],
   "source": [
    "# showImage(\"binar\",smoothing(mono,getFilter('WEIGHTEDMEAN')))"
   ]
  },
  {
   "cell_type": "code",
   "execution_count": 199,
   "metadata": {},
   "outputs": [],
   "source": [
    "showImage(\"orig\",mono)"
   ]
  },
  {
   "cell_type": "markdown",
   "metadata": {},
   "source": [
    "# Histogram based transformation\n",
    "## Equalization garna"
   ]
  },
  {
   "cell_type": "code",
   "execution_count": 228,
   "metadata": {},
   "outputs": [],
   "source": [
    "def histogram(image):\n",
    "    hist = np.zeros((256))\n",
    "    \n",
    "    for i in range(image.shape[0]):\n",
    "        for j in range(image.shape[1]):\n",
    "            a = image[i,j]\n",
    "            hist[a] += 1\n",
    "            int(hist[a])\n",
    "    \n",
    "    return hist.astype(np.int)"
   ]
  },
  {
   "cell_type": "code",
   "execution_count": 234,
   "metadata": {},
   "outputs": [],
   "source": [
    "def cumulativeHistogram(hist):\n",
    "    cum_hist = hist.copy()\n",
    "    \n",
    "    for i in np.arange(1,256):\n",
    "        cum_hist[i]=cum_hist[i]+cum_hist[i-1]\n",
    "    \n",
    "    return cum_hist.astype(np.int)\n",
    "    "
   ]
  },
  {
   "cell_type": "code",
   "execution_count": 238,
   "metadata": {},
   "outputs": [],
   "source": [
    "hist= histogram(mono)\n",
    "cu_hist= cumulativeHistogram(hist)\n"
   ]
  },
  {
   "cell_type": "code",
   "execution_count": 242,
   "metadata": {},
   "outputs": [],
   "source": [
    "def histogramEqualization(image,cum_hist):\n",
    "    totalpixels = image.shape[0]*image.shape[1]\n",
    "    imgcpy = image.copy()\n",
    "    for i in range(image.shape[0]):\n",
    "        for j in range(image.shape[1]):\n",
    "            o = image[i,j]\n",
    "            new = cum_hist[o]*255/totalpixels\n",
    "            imgcpy[i,j]=new\n",
    "    return imgcpy"
   ]
  },
  {
   "cell_type": "code",
   "execution_count": 252,
   "metadata": {},
   "outputs": [],
   "source": [
    "showImage('equalize',histogramEqualization(mono,cu_hist))\n",
    "showImage('original',mono)"
   ]
  },
  {
   "cell_type": "markdown",
   "metadata": {},
   "source": [
    "## histogram matching"
   ]
  },
  {
   "cell_type": "code",
   "execution_count": 294,
   "metadata": {},
   "outputs": [],
   "source": [
    "def histogramMatching(image,ref_img):\n",
    "    pixels_ref = ref_img.shape[0]*ref_img.shape[1]\n",
    "    pixels = image.shape[0]*image.shape[1]\n",
    "    \n",
    "    hist= histogram(image)\n",
    "    hist_ref = histogram(ref_img)\n",
    "    \n",
    "    cum_hist = cumulativeHistogram(hist)\n",
    "    cum_hist_ref= cumulativeHistogram(hist_ref)\n",
    "    \n",
    "    cum_hist_prob = cum_hist/pixels\n",
    "    cum_hist_ref_prob = cum_hist_ref/pixels_ref\n",
    "    \n",
    "    imgcpy = image.copy()\n",
    "    \n",
    "    new = np.zeros(256)\n",
    "    \n",
    "    for a in range(256):\n",
    "        j = 255;\n",
    "        while True:\n",
    "            new[a]= j\n",
    "            j= j-1\n",
    "            if j<0 or cum_hist_prob[a]>cum_hist_ref_prob[j]:\n",
    "                break\n",
    "\n",
    "    for i in range(image.shape[0]):\n",
    "        for j in range(image.shape[1]):\n",
    "            old = image[i,j]\n",
    "            imgcpy[i,j]=new[old]\n",
    "    \n",
    "    return imgcpy"
   ]
  },
  {
   "cell_type": "code",
   "execution_count": 295,
   "metadata": {},
   "outputs": [],
   "source": [
    "inputimg = cv2.imread('images/cat.png',cv2.IMREAD_GRAYSCALE)\n",
    "refimg= cv2.imread('images/boat.png',cv2.IMREAD_GRAYSCALE)\n",
    "# showImage(\"inpu\",inputimg)\n",
    "showImage('HistogramMatching',histogramMatching(inputimg,refimg))"
   ]
  },
  {
   "cell_type": "markdown",
   "metadata": {},
   "source": [
    "## Box, Gaussian and Laplacian filters"
   ]
  },
  {
   "cell_type": "code",
   "execution_count": 304,
   "metadata": {},
   "outputs": [],
   "source": [
    "gauss = (1/57)*np.array([\n",
    "    [0,1,2,1,0],\n",
    "    [1,3,5,3,1],\n",
    "    [2,5,9,5,2],\n",
    "    [1,3,5,3,1],\n",
    "    [0,1,2,1,0]\n",
    "])\n",
    "\n",
    "laplacian = (1/16)*np.array([\n",
    "    [0,0,-1,0,0],\n",
    "    [0,-1,-2,-1,0],\n",
    "    [-1,-2,16,-2,-1],\n",
    "    [-1,-2,16,-2,-1],\n",
    "    [0,0,-1,0,0]\n",
    "])\n",
    "\n",
    "box = (1/9)*np.array([\n",
    "    [0,0,0,0,0],\n",
    "    [0,1,1,1,0],\n",
    "    [0,1,1,1,0],\n",
    "    [0,1,1,1,0],\n",
    "    [0,0,0,0,0]\n",
    "])"
   ]
  },
  {
   "cell_type": "code",
   "execution_count": 313,
   "metadata": {},
   "outputs": [],
   "source": [
    "def linearFilter(image,flter):\n",
    "    imcpy = image.copy()\n",
    "    for i in np.arange(2,image.shape[0]-2):\n",
    "        for j in np.arange(2,image.shape[1]-2):\n",
    "            sum=0\n",
    "            for k in np.arange(-2,3):  #-2,-1,0,1,2\n",
    "                for l in np.arange(-2,3):\n",
    "                    a =image[i+k,j+l] #neighbours ko value\n",
    "                    p= flter[k+2,l+2]\n",
    "                    sum += p*a\n",
    "            \n",
    "            imcpy[i,j]=sum\n",
    "    \n",
    "    return imcpy"
   ]
  },
  {
   "cell_type": "code",
   "execution_count": 314,
   "metadata": {},
   "outputs": [],
   "source": [
    "gaussianimg=linearFilter(inputimg,gauss)\n"
   ]
  },
  {
   "cell_type": "code",
   "execution_count": 320,
   "metadata": {},
   "outputs": [],
   "source": [
    "laplacianimg = linearFilter(inputimg,laplacian)"
   ]
  },
  {
   "cell_type": "code",
   "execution_count": 319,
   "metadata": {},
   "outputs": [],
   "source": [
    "boximg= linearFilter(inputimg,box)"
   ]
  },
  {
   "cell_type": "code",
   "execution_count": 321,
   "metadata": {},
   "outputs": [],
   "source": [
    "showImage(\"input\",inputimg)\n",
    "showImage(\"gaussian\",gaussianimg)\n",
    "showImage(\"laplacian\",laplacianimg)\n",
    "showImage(\"boxfilter\",boximg)"
   ]
  },
  {
   "cell_type": "code",
   "execution_count": 324,
   "metadata": {},
   "outputs": [],
   "source": []
  },
  {
   "cell_type": "code",
   "execution_count": 325,
   "metadata": {},
   "outputs": [
    {
     "data": {
      "text/plain": [
       "array([1, 2, 3])"
      ]
     },
     "execution_count": 325,
     "metadata": {},
     "output_type": "execute_result"
    }
   ],
   "source": [
    "np.arange(1,4)"
   ]
  },
  {
   "cell_type": "markdown",
   "metadata": {},
   "source": [
    "## Discrete Fourier Transform (DFT and FFTs Implementation attempt)"
   ]
  },
  {
   "cell_type": "code",
   "execution_count": null,
   "metadata": {},
   "outputs": [],
   "source": []
  },
  {
   "cell_type": "code",
   "execution_count": 331,
   "metadata": {},
   "outputs": [],
   "source": [
    "def DFT(x): \n",
    "    x = np.asarray(x,dtype=float)\n",
    "    N=x.shape[0]\n",
    "    n=np.arange(N)\n",
    "    k= n.reshape((N,1))\n",
    "    M=np.exp(-2j * np.pi * k * n/N)\n",
    "    return np.dot(M,x)"
   ]
  },
  {
   "cell_type": "code",
   "execution_count": 349,
   "metadata": {},
   "outputs": [],
   "source": [
    "def FFT(x):\n",
    "    x = np.asarray(x,dtype=float)\n",
    "    N=x.shape[0]\n",
    "    \n",
    "    if(N % 2 > 0):\n",
    "       raise ValueError(\"image shape must be in power of 2\")\n",
    "    elif (N <= 32):\n",
    "        return DFT(x)\n",
    "    else:\n",
    "        x_even = FFT(x[::2])\n",
    "        x_odd = FFT(x[1::2])\n",
    "        factor= np.exp(-2j * np.pi*np.arange(N)/N)\n",
    "        return np.concatenate([x_even + factor[:N/2]*x_odd,x_even + factor[N/2:]*x_odd])"
   ]
  },
  {
   "cell_type": "code",
   "execution_count": 329,
   "metadata": {},
   "outputs": [
    {
     "data": {
      "text/plain": [
       "array([0.68053975, 0.08093592, 0.82020477, 0.19862291, 0.5623077 ,\n",
       "       0.56026763, 0.28355289, 0.18908106, 0.46769745, 0.35801114,\n",
       "       0.36984055, 0.86049909, 0.17050322, 0.54513969, 0.35854506,\n",
       "       0.90470629, 0.54924912, 0.20453826, 0.39763256, 0.51687357])"
      ]
     },
     "execution_count": 329,
     "metadata": {},
     "output_type": "execute_result"
    }
   ],
   "source": [
    "x = np.random.random(20)\n",
    "x"
   ]
  },
  {
   "cell_type": "code",
   "execution_count": null,
   "metadata": {},
   "outputs": [],
   "source": []
  },
  {
   "cell_type": "code",
   "execution_count": 332,
   "metadata": {},
   "outputs": [
    {
     "data": {
      "text/plain": [
       "array([ 9.07874865+0.00000000e+00j,  0.13979246+5.63105468e-01j,\n",
       "       -0.14181966-5.43119798e-01j, -0.29820095-1.94322481e-01j,\n",
       "        1.19680941+1.52561866e-01j,  0.20052141+9.20890276e-01j,\n",
       "       -1.01536314+1.32470051e-01j, -0.19823622+1.24756191e+00j,\n",
       "        0.55220181-2.01126842e-01j,  1.7096193 +1.29143699e+00j,\n",
       "        0.2413975 +7.01256452e-15j,  1.7096193 -1.29143699e+00j,\n",
       "        0.55220181+2.01126842e-01j, -0.19823622-1.24756191e+00j,\n",
       "       -1.01536314-1.32470051e-01j,  0.20052141-9.20890276e-01j,\n",
       "        1.19680941-1.52561866e-01j, -0.29820095+1.94322481e-01j,\n",
       "       -0.14181966+5.43119798e-01j,  0.13979246-5.63105468e-01j])"
      ]
     },
     "execution_count": 332,
     "metadata": {},
     "output_type": "execute_result"
    }
   ],
   "source": [
    "DFT(x)"
   ]
  },
  {
   "cell_type": "code",
   "execution_count": 333,
   "metadata": {},
   "outputs": [
    {
     "data": {
      "text/plain": [
       "True"
      ]
     },
     "execution_count": 333,
     "metadata": {},
     "output_type": "execute_result"
    }
   ],
   "source": [
    "np.allclose(DFT(x),np.fft.fft(x))"
   ]
  },
  {
   "cell_type": "code",
   "execution_count": 351,
   "metadata": {},
   "outputs": [
    {
     "data": {
      "text/plain": [
       "True"
      ]
     },
     "execution_count": 351,
     "metadata": {},
     "output_type": "execute_result"
    }
   ],
   "source": [
    "np.allclose(FFT(x),np.fft.fft(x))"
   ]
  },
  {
   "cell_type": "code",
   "execution_count": 432,
   "metadata": {},
   "outputs": [],
   "source": [
    "def DFT2D(x):\n",
    "    m,n =x.shape\n",
    "    o = x.copy()\n",
    "    o = o.astype(np.complex)      \n",
    "    for k_m in range(m):\n",
    "        for k_n in range(n):\n",
    "            sum=complex(0,0)\n",
    "            for i in range(m):\n",
    "                for j in range(n):  \n",
    "                      sum = sum + x[i,j]*np.exp(-2j * np.pi *(k_m*i/m + k_n*j/n) )\n",
    "                \n",
    "            o[k_m,k_n]=sum\n",
    "    return o\n",
    "                    "
   ]
  },
  {
   "cell_type": "code",
   "execution_count": 433,
   "metadata": {},
   "outputs": [
    {
     "data": {
      "text/plain": [
       "array([[ 2.10000000e+01+0.00000000e+00j, -3.00000000e+00+1.73205081e+00j,\n",
       "        -3.00000000e+00-1.73205081e+00j],\n",
       "       [-9.00000000e+00-1.83697020e-15j,  2.66453526e-15+5.32907052e-15j,\n",
       "         2.66453526e-15+4.44089210e-15j]])"
      ]
     },
     "execution_count": 433,
     "metadata": {},
     "output_type": "execute_result"
    }
   ],
   "source": [
    "y=np.array([[1,2,3],[4,5,6]])\n",
    "DFT2D(y)"
   ]
  },
  {
   "cell_type": "code",
   "execution_count": 434,
   "metadata": {},
   "outputs": [
    {
     "data": {
      "text/plain": [
       "True"
      ]
     },
     "execution_count": 434,
     "metadata": {},
     "output_type": "execute_result"
    }
   ],
   "source": [
    "np.allclose(DFT2D(y),np.fft.fft2(y))"
   ]
  },
  {
   "cell_type": "code",
   "execution_count": null,
   "metadata": {},
   "outputs": [],
   "source": [
    "FFT2D(x):\n",
    "    "
   ]
  },
  {
   "cell_type": "code",
   "execution_count": 355,
   "metadata": {},
   "outputs": [
    {
     "data": {
      "text/plain": [
       "array([14, 32])"
      ]
     },
     "execution_count": 355,
     "metadata": {},
     "output_type": "execute_result"
    }
   ],
   "source": [
    "\n",
    "a=np.arange(1,4) `\n",
    "np.dot(y,a)"
   ]
  },
  {
   "cell_type": "code",
   "execution_count": null,
   "metadata": {},
   "outputs": [],
   "source": [
    "def DFT2D(x):\n",
    "    "
   ]
  }
 ],
 "metadata": {
  "kernelspec": {
   "display_name": "Python 3",
   "language": "python",
   "name": "python3"
  },
  "language_info": {
   "codemirror_mode": {
    "name": "ipython",
    "version": 3
   },
   "file_extension": ".py",
   "mimetype": "text/x-python",
   "name": "python",
   "nbconvert_exporter": "python",
   "pygments_lexer": "ipython3",
   "version": "3.6.6"
  }
 },
 "nbformat": 4,
 "nbformat_minor": 2
}
